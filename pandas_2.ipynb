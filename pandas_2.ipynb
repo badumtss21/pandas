{
 "cells": [
  {
   "cell_type": "code",
   "execution_count": 5,
   "id": "981c92c2",
   "metadata": {},
   "outputs": [
    {
     "name": "stdout",
     "output_type": "stream",
     "text": [
      "       carat        cut color clarity  depth  table  price     x     y     z\n",
      "0       0.23      Ideal     E     SI2   61.5   55.0    326  3.95  3.98  2.43\n",
      "1       0.21    Premium     E     SI1   59.8   61.0    326  3.89  3.84  2.31\n",
      "2       0.23       Good     E     VS1   56.9   65.0    327  4.05  4.07  2.31\n",
      "3       0.29    Premium     I     VS2   62.4   58.0    334  4.20  4.23  2.63\n",
      "4       0.31       Good     J     SI2   63.3   58.0    335  4.34  4.35  2.75\n",
      "...      ...        ...   ...     ...    ...    ...    ...   ...   ...   ...\n",
      "53935   0.72      Ideal     D     SI1   60.8   57.0   2757  5.75  5.76  3.50\n",
      "53936   0.72       Good     D     SI1   63.1   55.0   2757  5.69  5.75  3.61\n",
      "53937   0.70  Very Good     D     SI1   62.8   60.0   2757  5.66  5.68  3.56\n",
      "53938   0.86    Premium     H     SI2   61.0   58.0   2757  6.15  6.12  3.74\n",
      "53939   0.75      Ideal     D     SI2   62.2   55.0   2757  5.83  5.87  3.64\n",
      "\n",
      "[53940 rows x 10 columns]\n"
     ]
    }
   ],
   "source": [
    "#27. Cargue el conjunto de datos de \"diamantes\" de Seaborn en un marco de datos de Pandas llamado diamantes.\n",
    "import pandas as pd\n",
    "import numpy as np\n",
    "import seaborn as sb\n",
    "diamonds = sb.load_dataset('diamonds')\n",
    "print(diamonds)"
   ]
  },
  {
   "cell_type": "code",
   "execution_count": 4,
   "id": "d8fdf780",
   "metadata": {},
   "outputs": [
    {
     "data": {
      "text/plain": [
       "Index(['carat', 'cut', 'color', 'clarity', 'depth', 'table', 'price', 'x', 'y',\n",
       "       'z'],\n",
       "      dtype='object')"
      ]
     },
     "execution_count": 4,
     "metadata": {},
     "output_type": "execute_result"
    }
   ],
   "source": [
    "#28. Muestre las columnas que están disponibles.\n",
    "diamonds.columns"
   ]
  },
  {
   "cell_type": "code",
   "execution_count": 6,
   "id": "078552f8",
   "metadata": {},
   "outputs": [
    {
     "data": {
      "text/plain": [
       "pandas.core.series.Series"
      ]
     },
     "execution_count": 6,
     "metadata": {},
     "output_type": "execute_result"
    }
   ],
   "source": [
    "#30. Seleccione la columna 'tabla' y muestre su tipo\n",
    "table = diamonds['table']\n",
    "type(table)"
   ]
  },
  {
   "cell_type": "code",
   "execution_count": 11,
   "id": "08e43849",
   "metadata": {},
   "outputs": [
    {
     "data": {
      "text/html": [
       "<div>\n",
       "<style scoped>\n",
       "    .dataframe tbody tr th:only-of-type {\n",
       "        vertical-align: middle;\n",
       "    }\n",
       "\n",
       "    .dataframe tbody tr th {\n",
       "        vertical-align: top;\n",
       "    }\n",
       "\n",
       "    .dataframe thead th {\n",
       "        text-align: right;\n",
       "    }\n",
       "</style>\n",
       "<table border=\"1\" class=\"dataframe\">\n",
       "  <thead>\n",
       "    <tr style=\"text-align: right;\">\n",
       "      <th></th>\n",
       "      <th>price</th>\n",
       "      <th>carat</th>\n",
       "    </tr>\n",
       "  </thead>\n",
       "  <tbody>\n",
       "    <tr>\n",
       "      <th>0</th>\n",
       "      <td>326</td>\n",
       "      <td>0.23</td>\n",
       "    </tr>\n",
       "    <tr>\n",
       "      <th>1</th>\n",
       "      <td>326</td>\n",
       "      <td>0.21</td>\n",
       "    </tr>\n",
       "    <tr>\n",
       "      <th>2</th>\n",
       "      <td>327</td>\n",
       "      <td>0.23</td>\n",
       "    </tr>\n",
       "    <tr>\n",
       "      <th>3</th>\n",
       "      <td>334</td>\n",
       "      <td>0.29</td>\n",
       "    </tr>\n",
       "    <tr>\n",
       "      <th>4</th>\n",
       "      <td>335</td>\n",
       "      <td>0.31</td>\n",
       "    </tr>\n",
       "    <tr>\n",
       "      <th>5</th>\n",
       "      <td>336</td>\n",
       "      <td>0.24</td>\n",
       "    </tr>\n",
       "    <tr>\n",
       "      <th>6</th>\n",
       "      <td>336</td>\n",
       "      <td>0.24</td>\n",
       "    </tr>\n",
       "    <tr>\n",
       "      <th>7</th>\n",
       "      <td>337</td>\n",
       "      <td>0.26</td>\n",
       "    </tr>\n",
       "    <tr>\n",
       "      <th>8</th>\n",
       "      <td>337</td>\n",
       "      <td>0.22</td>\n",
       "    </tr>\n",
       "    <tr>\n",
       "      <th>9</th>\n",
       "      <td>338</td>\n",
       "      <td>0.23</td>\n",
       "    </tr>\n",
       "  </tbody>\n",
       "</table>\n",
       "</div>"
      ],
      "text/plain": [
       "   price  carat\n",
       "0    326   0.23\n",
       "1    326   0.21\n",
       "2    327   0.23\n",
       "3    334   0.29\n",
       "4    335   0.31\n",
       "5    336   0.24\n",
       "6    336   0.24\n",
       "7    337   0.26\n",
       "8    337   0.22\n",
       "9    338   0.23"
      ]
     },
     "execution_count": 11,
     "metadata": {},
     "output_type": "execute_result"
    }
   ],
   "source": [
    "#31. Seleccione las primeras diez filas del precio y las columnas de quilates diez filas de los \n",
    "#diamantes DataFrame en una variable llamada subconjunto, y muéstrelas.\n",
    "subconjunto = diamonds.loc[0:9, ['price', 'carat']]\n",
    "subconjunto"
   ]
  },
  {
   "cell_type": "code",
   "execution_count": 12,
   "id": "4479bca2",
   "metadata": {},
   "outputs": [
    {
     "data": {
      "text/plain": [
       "dtype('int64')"
      ]
     },
     "execution_count": 12,
     "metadata": {},
     "output_type": "execute_result"
    }
   ],
   "source": [
    "#32. Para una columna determinada, ¿mostrar el código para mostrar el tipo de datos de los valores de la columna?\n",
    "diamonds['price'].dtype"
   ]
  },
  {
   "cell_type": "code",
   "execution_count": 14,
   "id": "3a9da390",
   "metadata": {},
   "outputs": [
    {
     "name": "stdout",
     "output_type": "stream",
     "text": [
      "carat       0.23\n",
      "cut        Ideal\n",
      "color          E\n",
      "clarity      SI2\n",
      "depth       61.5\n",
      "table       55.0\n",
      "price        326\n",
      "x           3.95\n",
      "y           3.98\n",
      "z           2.43\n",
      "Name: 0, dtype: object\n"
     ]
    }
   ],
   "source": [
    "#33. Seleccione la primera fila de los diamantes DataFrame en una variable llamada fila.\n",
    "row = diamonds.iloc[0,:]\n",
    "print(row)"
   ]
  },
  {
   "cell_type": "code",
   "execution_count": 15,
   "id": "8bf14df8",
   "metadata": {},
   "outputs": [
    {
     "data": {
      "text/plain": [
       "pandas.core.series.Series"
      ]
     },
     "execution_count": 15,
     "metadata": {},
     "output_type": "execute_result"
    }
   ],
   "source": [
    "#34. ¿Cuál esperaría que fuera el tipo de datos de la fila? Muéstralo.\n",
    "type(row)"
   ]
  },
  {
   "cell_type": "code",
   "execution_count": 16,
   "id": "7d91fc04",
   "metadata": {},
   "outputs": [
    {
     "data": {
      "text/plain": [
       "Index(['carat', 'cut', 'color', 'clarity', 'depth', 'table', 'price', 'x', 'y',\n",
       "       'z'],\n",
       "      dtype='object')"
      ]
     },
     "execution_count": 16,
     "metadata": {},
     "output_type": "execute_result"
    }
   ],
   "source": [
    "#35. ¿Puede descubrir los nombres de las columnas usando solo la fila devuelta en #33? ¿Por qué o por qué no? \n",
    "#¿Puede descubrir los nombres de las columnas usando solo la fila devuelta en #33? ¿Por qué o por qué no?\n",
    "#Respuesta: si, porque una serie de filas debe tener las columnas como indice\n",
    "row.index"
   ]
  },
  {
   "cell_type": "code",
   "execution_count": 17,
   "id": "57363992",
   "metadata": {},
   "outputs": [
    {
     "data": {
      "text/plain": [
       "carat         2.29\n",
       "cut        Premium\n",
       "color            I\n",
       "clarity        VS2\n",
       "depth         60.8\n",
       "table         60.0\n",
       "price        18823\n",
       "x              8.5\n",
       "y             8.47\n",
       "z             5.16\n",
       "Name: 27749, dtype: object"
      ]
     },
     "execution_count": 17,
     "metadata": {},
     "output_type": "execute_result"
    }
   ],
   "source": [
    "#36. Seleccione la fila con el diamante de mayor precio.\n",
    "diamonds.loc[diamonds['price'].idxmax(), :]"
   ]
  },
  {
   "cell_type": "code",
   "execution_count": 18,
   "id": "c49deeb0",
   "metadata": {},
   "outputs": [
    {
     "data": {
      "text/plain": [
       "carat       0.23\n",
       "cut        Ideal\n",
       "color          E\n",
       "clarity      SI2\n",
       "depth       61.5\n",
       "table       55.0\n",
       "price        326\n",
       "x           3.95\n",
       "y           3.98\n",
       "z           2.43\n",
       "Name: 0, dtype: object"
      ]
     },
     "execution_count": 18,
     "metadata": {},
     "output_type": "execute_result"
    }
   ],
   "source": [
    "#37. Seleccione la fila con el diamante de menor precio.\n",
    "diamonds.loc[diamonds['price'].idxmin(), :]"
   ]
  },
  {
   "cell_type": "code",
   "execution_count": null,
   "id": "72754715",
   "metadata": {},
   "outputs": [],
   "source": [
    "#Algunos ejercicios usando series temporales"
   ]
  },
  {
   "cell_type": "code",
   "execution_count": 20,
   "id": "27851b34",
   "metadata": {},
   "outputs": [
    {
     "name": "stdout",
     "output_type": "stream",
     "text": [
      "                   pickup              dropoff  passengers  distance  fare  \\\n",
      "0     2019-03-23 20:21:09  2019-03-23 20:27:24           1      1.60   7.0   \n",
      "1     2019-03-04 16:11:55  2019-03-04 16:19:00           1      0.79   5.0   \n",
      "2     2019-03-27 17:53:01  2019-03-27 18:00:25           1      1.37   7.5   \n",
      "3     2019-03-10 01:23:59  2019-03-10 01:49:51           1      7.70  27.0   \n",
      "4     2019-03-30 13:27:42  2019-03-30 13:37:14           3      2.16   9.0   \n",
      "...                   ...                  ...         ...       ...   ...   \n",
      "6428  2019-03-31 09:51:53  2019-03-31 09:55:27           1      0.75   4.5   \n",
      "6429  2019-03-31 17:38:00  2019-03-31 18:34:23           1     18.74  58.0   \n",
      "6430  2019-03-23 22:55:18  2019-03-23 23:14:25           1      4.14  16.0   \n",
      "6431  2019-03-04 10:09:25  2019-03-04 10:14:29           1      1.12   6.0   \n",
      "6432  2019-03-13 19:31:22  2019-03-13 19:48:02           1      3.85  15.0   \n",
      "\n",
      "       tip  tolls  total   color      payment            pickup_zone  \\\n",
      "0     2.15    0.0  12.95  yellow  credit card        Lenox Hill West   \n",
      "1     0.00    0.0   9.30  yellow         cash  Upper West Side South   \n",
      "2     2.36    0.0  14.16  yellow  credit card          Alphabet City   \n",
      "3     6.15    0.0  36.95  yellow  credit card              Hudson Sq   \n",
      "4     1.10    0.0  13.40  yellow  credit card           Midtown East   \n",
      "...    ...    ...    ...     ...          ...                    ...   \n",
      "6428  1.06    0.0   6.36   green  credit card      East Harlem North   \n",
      "6429  0.00    0.0  58.80   green  credit card                Jamaica   \n",
      "6430  0.00    0.0  17.30   green         cash    Crown Heights North   \n",
      "6431  0.00    0.0   6.80   green  credit card          East New York   \n",
      "6432  3.36    0.0  20.16   green  credit card            Boerum Hill   \n",
      "\n",
      "                          dropoff_zone pickup_borough dropoff_borough  \n",
      "0                  UN/Turtle Bay South      Manhattan       Manhattan  \n",
      "1                Upper West Side South      Manhattan       Manhattan  \n",
      "2                         West Village      Manhattan       Manhattan  \n",
      "3                       Yorkville West      Manhattan       Manhattan  \n",
      "4                       Yorkville West      Manhattan       Manhattan  \n",
      "...                                ...            ...             ...  \n",
      "6428              Central Harlem North      Manhattan       Manhattan  \n",
      "6429  East Concourse/Concourse Village         Queens           Bronx  \n",
      "6430                    Bushwick North       Brooklyn        Brooklyn  \n",
      "6431      East Flatbush/Remsen Village       Brooklyn        Brooklyn  \n",
      "6432                   Windsor Terrace       Brooklyn        Brooklyn  \n",
      "\n",
      "[6433 rows x 14 columns]\n"
     ]
    }
   ],
   "source": [
    "#38. Cargue el conjunto de datos de taxis en un DataFrame, taxis.\n",
    "taxis = sb.load_dataset('taxis')\n",
    "print(taxis)"
   ]
  },
  {
   "cell_type": "code",
   "execution_count": 23,
   "id": "29551953",
   "metadata": {},
   "outputs": [
    {
     "name": "stdout",
     "output_type": "stream",
     "text": [
      "                   pickup              dropoff  passengers  distance  fare  \\\n",
      "0     2019-03-23 20:21:09  2019-03-23 20:27:24           1      1.60   7.0   \n",
      "1     2019-03-04 16:11:55  2019-03-04 16:19:00           1      0.79   5.0   \n",
      "2     2019-03-27 17:53:01  2019-03-27 18:00:25           1      1.37   7.5   \n",
      "3     2019-03-10 01:23:59  2019-03-10 01:49:51           1      7.70  27.0   \n",
      "4     2019-03-30 13:27:42  2019-03-30 13:37:14           3      2.16   9.0   \n",
      "...                   ...                  ...         ...       ...   ...   \n",
      "6428  2019-03-31 09:51:53  2019-03-31 09:55:27           1      0.75   4.5   \n",
      "6429  2019-03-31 17:38:00  2019-03-31 18:34:23           1     18.74  58.0   \n",
      "6430  2019-03-23 22:55:18  2019-03-23 23:14:25           1      4.14  16.0   \n",
      "6431  2019-03-04 10:09:25  2019-03-04 10:14:29           1      1.12   6.0   \n",
      "6432  2019-03-13 19:31:22  2019-03-13 19:48:02           1      3.85  15.0   \n",
      "\n",
      "       tip  tolls  total   color      payment            pickup_zone  \\\n",
      "0     2.15    0.0  12.95  yellow  credit card        Lenox Hill West   \n",
      "1     0.00    0.0   9.30  yellow         cash  Upper West Side South   \n",
      "2     2.36    0.0  14.16  yellow  credit card          Alphabet City   \n",
      "3     6.15    0.0  36.95  yellow  credit card              Hudson Sq   \n",
      "4     1.10    0.0  13.40  yellow  credit card           Midtown East   \n",
      "...    ...    ...    ...     ...          ...                    ...   \n",
      "6428  1.06    0.0   6.36   green  credit card      East Harlem North   \n",
      "6429  0.00    0.0  58.80   green  credit card                Jamaica   \n",
      "6430  0.00    0.0  17.30   green         cash    Crown Heights North   \n",
      "6431  0.00    0.0   6.80   green  credit card          East New York   \n",
      "6432  3.36    0.0  20.16   green  credit card            Boerum Hill   \n",
      "\n",
      "                          dropoff_zone pickup_borough dropoff_borough  \\\n",
      "0                  UN/Turtle Bay South      Manhattan       Manhattan   \n",
      "1                Upper West Side South      Manhattan       Manhattan   \n",
      "2                         West Village      Manhattan       Manhattan   \n",
      "3                       Yorkville West      Manhattan       Manhattan   \n",
      "4                       Yorkville West      Manhattan       Manhattan   \n",
      "...                                ...            ...             ...   \n",
      "6428              Central Harlem North      Manhattan       Manhattan   \n",
      "6429  East Concourse/Concourse Village         Queens           Bronx   \n",
      "6430                    Bushwick North       Brooklyn        Brooklyn   \n",
      "6431      East Flatbush/Remsen Village       Brooklyn        Brooklyn   \n",
      "6432                   Windsor Terrace       Brooklyn        Brooklyn   \n",
      "\n",
      "             pickup_time  \n",
      "0    2019-03-23 20:21:09  \n",
      "1    2019-03-04 16:11:55  \n",
      "2    2019-03-27 17:53:01  \n",
      "3    2019-03-10 01:23:59  \n",
      "4    2019-03-30 13:27:42  \n",
      "...                  ...  \n",
      "6428 2019-03-31 09:51:53  \n",
      "6429 2019-03-31 17:38:00  \n",
      "6430 2019-03-23 22:55:18  \n",
      "6431 2019-03-04 10:09:25  \n",
      "6432 2019-03-13 19:31:22  \n",
      "\n",
      "[6433 rows x 15 columns]\n"
     ]
    }
   ],
   "source": [
    "#39. La columna \"recogida\" contiene la fecha y la hora en que el cliente recogió, pero es una cadena. Agregue una columna \n",
    "#al DataFrame, 'pickup_time', que contenga el valor de 'pickup' como DateTime.\n",
    "taxis['pickup_time'] = pd.to_datetime(taxis['pickup'])\n",
    "print(taxis)"
   ]
  },
  {
   "cell_type": "code",
   "execution_count": 24,
   "id": "293c37af",
   "metadata": {},
   "outputs": [
    {
     "name": "stdout",
     "output_type": "stream",
     "text": [
      "                   pickup              dropoff  passengers  distance  fare  \\\n",
      "0     2019-03-23 20:21:09  2019-03-23 20:27:24           1      1.60   7.0   \n",
      "8     2019-03-23 11:48:50  2019-03-23 12:06:14           1      3.63  15.0   \n",
      "17    2019-03-23 20:50:49  2019-03-23 21:02:07           1      2.60  10.5   \n",
      "117   2019-03-23 09:39:25  2019-03-23 09:56:45           0      3.60  15.5   \n",
      "144   2019-03-23 18:35:01  2019-03-23 18:47:39           1      3.20  12.5   \n",
      "...                   ...                  ...         ...       ...   ...   \n",
      "6325  2019-03-23 20:52:40  2019-03-23 21:10:12           1      3.62  14.5   \n",
      "6331  2019-03-23 11:27:00  2019-03-23 12:20:11           1      7.67  28.0   \n",
      "6338  2019-03-23 18:05:38  2019-03-23 18:25:36           1      2.82  14.0   \n",
      "6427  2019-03-23 18:26:09  2019-03-23 18:49:12           1      7.07  20.0   \n",
      "6430  2019-03-23 22:55:18  2019-03-23 23:14:25           1      4.14  16.0   \n",
      "\n",
      "       tip  tolls  total   color      payment                     pickup_zone  \\\n",
      "0     2.15    0.0  12.95  yellow  credit card                 Lenox Hill West   \n",
      "8     1.00    0.0  19.30  yellow  credit card               East Harlem South   \n",
      "17    2.00    0.0  16.30  yellow  credit card                  Midtown Center   \n",
      "117   3.75    0.0  22.55  yellow  credit card                  Yorkville East   \n",
      "144   2.00    0.0  17.80  yellow  credit card             UN/Turtle Bay South   \n",
      "...    ...    ...    ...     ...          ...                             ...   \n",
      "6325  0.00    0.0  15.80   green         cash  Long Island City/Hunters Point   \n",
      "6331  0.00    0.0  28.00   green         cash                 Jackson Heights   \n",
      "6338  0.00    0.0  14.80   green  credit card              Claremont/Bathgate   \n",
      "6427  0.00    0.0  20.00   green         cash                     Parkchester   \n",
      "6430  0.00    0.0  17.30   green         cash             Crown Heights North   \n",
      "\n",
      "                      dropoff_zone pickup_borough dropoff_borough  \\\n",
      "0              UN/Turtle Bay South      Manhattan       Manhattan   \n",
      "8                   Midtown Center      Manhattan       Manhattan   \n",
      "17               East Harlem South      Manhattan       Manhattan   \n",
      "117   Penn Station/Madison Sq West      Manhattan       Manhattan   \n",
      "144                   East Village      Manhattan       Manhattan   \n",
      "...                            ...            ...             ...   \n",
      "6325                      Steinway         Queens          Queens   \n",
      "6331                       Maspeth         Queens          Queens   \n",
      "6338    Spuyten Duyvil/Kingsbridge          Bronx           Bronx   \n",
      "6427             East Harlem South          Bronx       Manhattan   \n",
      "6430                Bushwick North       Brooklyn        Brooklyn   \n",
      "\n",
      "             pickup_time  \n",
      "0    2019-03-23 20:21:09  \n",
      "8    2019-03-23 11:48:50  \n",
      "17   2019-03-23 20:50:49  \n",
      "117  2019-03-23 09:39:25  \n",
      "144  2019-03-23 18:35:01  \n",
      "...                  ...  \n",
      "6325 2019-03-23 20:52:40  \n",
      "6331 2019-03-23 11:27:00  \n",
      "6338 2019-03-23 18:05:38  \n",
      "6427 2019-03-23 18:26:09  \n",
      "6430 2019-03-23 22:55:18  \n",
      "\n",
      "[174 rows x 15 columns]\n"
     ]
    }
   ],
   "source": [
    "#40. Tenemos la hipótesis de que a medida que avanza el día, las propinas aumentan. Sin embargo, tendremos que discutir \n",
    "#un poco los datos antes de probar esto. Primero, ahora que tenemos una columna datetime, pickup_time, cree un subconjunto \n",
    "#de ella para crear un nuevo DataFrame, taxis_one_day. Este nuevo DataFrame debe tener valores entre '2019-03-23 00:06:00' \n",
    "#(inclusive) y '2019-03-24 00:00:00' (exlusivo).\n",
    "mask = (taxis['pickup_time'] >= '2019-03-23 06:00:00') & (taxis['pickup_time'] < '2019-03-24 00:00:00')\n",
    "taxis_one_day = taxis.loc[mask]\n",
    "print(taxis_one_day)"
   ]
  },
  {
   "cell_type": "code",
   "execution_count": 25,
   "id": "d2ff8da1",
   "metadata": {},
   "outputs": [
    {
     "data": {
      "text/html": [
       "<div>\n",
       "<style scoped>\n",
       "    .dataframe tbody tr th:only-of-type {\n",
       "        vertical-align: middle;\n",
       "    }\n",
       "\n",
       "    .dataframe tbody tr th {\n",
       "        vertical-align: top;\n",
       "    }\n",
       "\n",
       "    .dataframe thead th {\n",
       "        text-align: right;\n",
       "    }\n",
       "</style>\n",
       "<table border=\"1\" class=\"dataframe\">\n",
       "  <thead>\n",
       "    <tr style=\"text-align: right;\">\n",
       "      <th></th>\n",
       "      <th>passengers</th>\n",
       "      <th>distance</th>\n",
       "      <th>fare</th>\n",
       "      <th>tip</th>\n",
       "      <th>tolls</th>\n",
       "      <th>total</th>\n",
       "    </tr>\n",
       "    <tr>\n",
       "      <th>pickup_time</th>\n",
       "      <th></th>\n",
       "      <th></th>\n",
       "      <th></th>\n",
       "      <th></th>\n",
       "      <th></th>\n",
       "      <th></th>\n",
       "    </tr>\n",
       "  </thead>\n",
       "  <tbody>\n",
       "    <tr>\n",
       "      <th>2019-03-23 06:00:00</th>\n",
       "      <td>1.000000</td>\n",
       "      <td>0.400000</td>\n",
       "      <td>21.500000</td>\n",
       "      <td>0.000000</td>\n",
       "      <td>0.000000</td>\n",
       "      <td>23.133333</td>\n",
       "    </tr>\n",
       "    <tr>\n",
       "      <th>2019-03-23 07:00:00</th>\n",
       "      <td>2.333333</td>\n",
       "      <td>0.980000</td>\n",
       "      <td>5.250000</td>\n",
       "      <td>1.165000</td>\n",
       "      <td>0.000000</td>\n",
       "      <td>9.298333</td>\n",
       "    </tr>\n",
       "    <tr>\n",
       "      <th>2019-03-23 08:00:00</th>\n",
       "      <td>1.000000</td>\n",
       "      <td>0.020000</td>\n",
       "      <td>2.500000</td>\n",
       "      <td>0.000000</td>\n",
       "      <td>0.000000</td>\n",
       "      <td>3.300000</td>\n",
       "    </tr>\n",
       "    <tr>\n",
       "      <th>2019-03-23 09:00:00</th>\n",
       "      <td>1.500000</td>\n",
       "      <td>1.352000</td>\n",
       "      <td>7.400000</td>\n",
       "      <td>1.674000</td>\n",
       "      <td>0.000000</td>\n",
       "      <td>12.124000</td>\n",
       "    </tr>\n",
       "    <tr>\n",
       "      <th>2019-03-23 10:00:00</th>\n",
       "      <td>1.000000</td>\n",
       "      <td>1.760000</td>\n",
       "      <td>8.750000</td>\n",
       "      <td>0.727500</td>\n",
       "      <td>0.000000</td>\n",
       "      <td>12.152500</td>\n",
       "    </tr>\n",
       "    <tr>\n",
       "      <th>2019-03-23 11:00:00</th>\n",
       "      <td>1.909091</td>\n",
       "      <td>2.070000</td>\n",
       "      <td>11.090909</td>\n",
       "      <td>0.803636</td>\n",
       "      <td>0.000000</td>\n",
       "      <td>14.667273</td>\n",
       "    </tr>\n",
       "    <tr>\n",
       "      <th>2019-03-23 12:00:00</th>\n",
       "      <td>2.000000</td>\n",
       "      <td>2.267143</td>\n",
       "      <td>10.260000</td>\n",
       "      <td>0.645714</td>\n",
       "      <td>0.000000</td>\n",
       "      <td>13.420000</td>\n",
       "    </tr>\n",
       "    <tr>\n",
       "      <th>2019-03-23 13:00:00</th>\n",
       "      <td>2.500000</td>\n",
       "      <td>1.167000</td>\n",
       "      <td>7.550000</td>\n",
       "      <td>2.074000</td>\n",
       "      <td>0.000000</td>\n",
       "      <td>12.344000</td>\n",
       "    </tr>\n",
       "    <tr>\n",
       "      <th>2019-03-23 14:00:00</th>\n",
       "      <td>2.470588</td>\n",
       "      <td>4.752941</td>\n",
       "      <td>18.330000</td>\n",
       "      <td>1.945294</td>\n",
       "      <td>1.003529</td>\n",
       "      <td>24.267059</td>\n",
       "    </tr>\n",
       "    <tr>\n",
       "      <th>2019-03-23 15:00:00</th>\n",
       "      <td>1.000000</td>\n",
       "      <td>6.557143</td>\n",
       "      <td>22.214286</td>\n",
       "      <td>3.210000</td>\n",
       "      <td>1.645714</td>\n",
       "      <td>30.370000</td>\n",
       "    </tr>\n",
       "    <tr>\n",
       "      <th>2019-03-23 16:00:00</th>\n",
       "      <td>2.000000</td>\n",
       "      <td>2.194545</td>\n",
       "      <td>10.454545</td>\n",
       "      <td>1.109091</td>\n",
       "      <td>0.000000</td>\n",
       "      <td>14.431818</td>\n",
       "    </tr>\n",
       "    <tr>\n",
       "      <th>2019-03-23 17:00:00</th>\n",
       "      <td>1.090909</td>\n",
       "      <td>1.913636</td>\n",
       "      <td>14.818182</td>\n",
       "      <td>2.688182</td>\n",
       "      <td>0.523636</td>\n",
       "      <td>20.739091</td>\n",
       "    </tr>\n",
       "    <tr>\n",
       "      <th>2019-03-23 18:00:00</th>\n",
       "      <td>1.571429</td>\n",
       "      <td>3.206429</td>\n",
       "      <td>12.821429</td>\n",
       "      <td>0.844286</td>\n",
       "      <td>0.411429</td>\n",
       "      <td>16.427143</td>\n",
       "    </tr>\n",
       "    <tr>\n",
       "      <th>2019-03-23 19:00:00</th>\n",
       "      <td>1.526316</td>\n",
       "      <td>2.097895</td>\n",
       "      <td>10.263158</td>\n",
       "      <td>1.176316</td>\n",
       "      <td>0.000000</td>\n",
       "      <td>14.226316</td>\n",
       "    </tr>\n",
       "    <tr>\n",
       "      <th>2019-03-23 20:00:00</th>\n",
       "      <td>1.400000</td>\n",
       "      <td>2.448000</td>\n",
       "      <td>11.100000</td>\n",
       "      <td>1.544000</td>\n",
       "      <td>0.000000</td>\n",
       "      <td>15.944000</td>\n",
       "    </tr>\n",
       "    <tr>\n",
       "      <th>2019-03-23 21:00:00</th>\n",
       "      <td>1.000000</td>\n",
       "      <td>2.017143</td>\n",
       "      <td>10.571429</td>\n",
       "      <td>1.420000</td>\n",
       "      <td>0.000000</td>\n",
       "      <td>15.791429</td>\n",
       "    </tr>\n",
       "    <tr>\n",
       "      <th>2019-03-23 22:00:00</th>\n",
       "      <td>1.307692</td>\n",
       "      <td>1.881538</td>\n",
       "      <td>8.923077</td>\n",
       "      <td>1.094615</td>\n",
       "      <td>0.000000</td>\n",
       "      <td>13.433077</td>\n",
       "    </tr>\n",
       "    <tr>\n",
       "      <th>2019-03-23 23:00:00</th>\n",
       "      <td>1.615385</td>\n",
       "      <td>3.725385</td>\n",
       "      <td>15.115385</td>\n",
       "      <td>1.696154</td>\n",
       "      <td>0.000000</td>\n",
       "      <td>20.034615</td>\n",
       "    </tr>\n",
       "  </tbody>\n",
       "</table>\n",
       "</div>"
      ],
      "text/plain": [
       "                     passengers  distance       fare       tip     tolls  \\\n",
       "pickup_time                                                                \n",
       "2019-03-23 06:00:00    1.000000  0.400000  21.500000  0.000000  0.000000   \n",
       "2019-03-23 07:00:00    2.333333  0.980000   5.250000  1.165000  0.000000   \n",
       "2019-03-23 08:00:00    1.000000  0.020000   2.500000  0.000000  0.000000   \n",
       "2019-03-23 09:00:00    1.500000  1.352000   7.400000  1.674000  0.000000   \n",
       "2019-03-23 10:00:00    1.000000  1.760000   8.750000  0.727500  0.000000   \n",
       "2019-03-23 11:00:00    1.909091  2.070000  11.090909  0.803636  0.000000   \n",
       "2019-03-23 12:00:00    2.000000  2.267143  10.260000  0.645714  0.000000   \n",
       "2019-03-23 13:00:00    2.500000  1.167000   7.550000  2.074000  0.000000   \n",
       "2019-03-23 14:00:00    2.470588  4.752941  18.330000  1.945294  1.003529   \n",
       "2019-03-23 15:00:00    1.000000  6.557143  22.214286  3.210000  1.645714   \n",
       "2019-03-23 16:00:00    2.000000  2.194545  10.454545  1.109091  0.000000   \n",
       "2019-03-23 17:00:00    1.090909  1.913636  14.818182  2.688182  0.523636   \n",
       "2019-03-23 18:00:00    1.571429  3.206429  12.821429  0.844286  0.411429   \n",
       "2019-03-23 19:00:00    1.526316  2.097895  10.263158  1.176316  0.000000   \n",
       "2019-03-23 20:00:00    1.400000  2.448000  11.100000  1.544000  0.000000   \n",
       "2019-03-23 21:00:00    1.000000  2.017143  10.571429  1.420000  0.000000   \n",
       "2019-03-23 22:00:00    1.307692  1.881538   8.923077  1.094615  0.000000   \n",
       "2019-03-23 23:00:00    1.615385  3.725385  15.115385  1.696154  0.000000   \n",
       "\n",
       "                         total  \n",
       "pickup_time                     \n",
       "2019-03-23 06:00:00  23.133333  \n",
       "2019-03-23 07:00:00   9.298333  \n",
       "2019-03-23 08:00:00   3.300000  \n",
       "2019-03-23 09:00:00  12.124000  \n",
       "2019-03-23 10:00:00  12.152500  \n",
       "2019-03-23 11:00:00  14.667273  \n",
       "2019-03-23 12:00:00  13.420000  \n",
       "2019-03-23 13:00:00  12.344000  \n",
       "2019-03-23 14:00:00  24.267059  \n",
       "2019-03-23 15:00:00  30.370000  \n",
       "2019-03-23 16:00:00  14.431818  \n",
       "2019-03-23 17:00:00  20.739091  \n",
       "2019-03-23 18:00:00  16.427143  \n",
       "2019-03-23 19:00:00  14.226316  \n",
       "2019-03-23 20:00:00  15.944000  \n",
       "2019-03-23 21:00:00  15.791429  \n",
       "2019-03-23 22:00:00  13.433077  \n",
       "2019-03-23 23:00:00  20.034615  "
      ]
     },
     "execution_count": 25,
     "metadata": {},
     "output_type": "execute_result"
    }
   ],
   "source": [
    "#41. Ahora tenemos un rango desde la mañana hasta la medianoche, pero debemos tomar la media de las columnas numéricas, \n",
    "#agrupadas a intervalos de una hora. Guarde el resultado como df_means y muéstrelo.\n",
    "taxis_means = taxis_one_day.groupby(pd.Grouper(key='pickup_time', freq='1h')).mean()\n",
    "taxis_means"
   ]
  },
  {
   "cell_type": "code",
   "execution_count": 26,
   "id": "b6c70be0",
   "metadata": {},
   "outputs": [
    {
     "data": {
      "text/plain": [
       "<AxesSubplot:xlabel='pickup_time'>"
      ]
     },
     "execution_count": 26,
     "metadata": {},
     "output_type": "execute_result"
    },
    {
     "data": {
      "image/png": "[encoded data removed]",
      "text/plain": [
       "<Figure size 432x288 with 1 Axes>"
      ]
     },
     "metadata": {
      "needs_background": "light"
     },
     "output_type": "display_data"
    }
   ],
   "source": [
    "#42. Cree una gráfica de línea simple del valor \"distancia\".\n",
    "taxis_means.plot(y='distance')"
   ]
  },
  {
   "cell_type": "code",
   "execution_count": null,
   "id": "5d059d3a",
   "metadata": {},
   "outputs": [],
   "source": [
    "#43. En general, ¿los ciclistas viajan más lejos o menos lejos a medida que avanza el día?\n",
    "#Respuesta: viajan mas lejos"
   ]
  },
  {
   "cell_type": "code",
   "execution_count": 27,
   "id": "c11a28c6",
   "metadata": {},
   "outputs": [
    {
     "data": {
      "text/plain": [
       "pickup_time\n",
       "2019-03-23 06:00:00     0.000000\n",
       "2019-03-23 07:00:00    22.190476\n",
       "2019-03-23 08:00:00     0.000000\n",
       "2019-03-23 09:00:00    22.621622\n",
       "2019-03-23 10:00:00     8.314286\n",
       "2019-03-23 11:00:00     7.245902\n",
       "2019-03-23 12:00:00     6.293512\n",
       "2019-03-23 13:00:00    27.470199\n",
       "2019-03-23 14:00:00    10.612625\n",
       "2019-03-23 15:00:00    14.450161\n",
       "2019-03-23 16:00:00    10.608696\n",
       "2019-03-23 17:00:00    18.141104\n",
       "2019-03-23 18:00:00     6.584958\n",
       "2019-03-23 19:00:00    11.461538\n",
       "2019-03-23 20:00:00    13.909910\n",
       "2019-03-23 21:00:00    13.432432\n",
       "2019-03-23 22:00:00    12.267241\n",
       "2019-03-23 23:00:00    11.221374\n",
       "Freq: H, Name: tip_in_percent, dtype: float64"
      ]
     },
     "execution_count": 27,
     "metadata": {},
     "output_type": "execute_result"
    }
   ],
   "source": [
    "#44. Cree una nueva columna en taxis_means, tip_in_percent. Las columnas de origen para esto deben ser \"tarifa\" y \"propina\"\n",
    "taxis_means['tip_in_percent'] = taxis_means.tip / taxis_means.fare * 100\n",
    "taxis_means.tip_in_percent "
   ]
  },
  {
   "cell_type": "code",
   "execution_count": 28,
   "id": "85db9479",
   "metadata": {},
   "outputs": [
    {
     "data": {
      "text/plain": [
       "pickup_time\n",
       "2019-03-23 06:00:00     0\n",
       "2019-03-23 07:00:00     1\n",
       "2019-03-23 08:00:00     2\n",
       "2019-03-23 09:00:00     3\n",
       "2019-03-23 10:00:00     4\n",
       "2019-03-23 11:00:00     5\n",
       "2019-03-23 12:00:00     6\n",
       "2019-03-23 13:00:00     7\n",
       "2019-03-23 14:00:00     8\n",
       "2019-03-23 15:00:00     9\n",
       "2019-03-23 16:00:00    10\n",
       "2019-03-23 17:00:00    11\n",
       "2019-03-23 18:00:00    12\n",
       "2019-03-23 19:00:00    13\n",
       "2019-03-23 20:00:00    14\n",
       "2019-03-23 21:00:00    15\n",
       "2019-03-23 22:00:00    16\n",
       "2019-03-23 23:00:00    17\n",
       "Freq: H, Name: time_interval, dtype: int32"
      ]
     },
     "execution_count": 28,
     "metadata": {},
     "output_type": "execute_result"
    }
   ],
   "source": [
    "#45. Cree una nueva columna, time_interval, como un rango de valores enteros que comience con cero.\n",
    "taxis_means['time_interval'] = np.arange(0, taxis_means.shape[0])\n",
    "taxis_means.time_interval"
   ]
  },
  {
   "cell_type": "code",
   "execution_count": 31,
   "id": "78b1c924",
   "metadata": {},
   "outputs": [
    {
     "name": "stdout",
     "output_type": "stream",
     "text": [
      "0.058068558052138404\n",
      "0.39614201273484234\n",
      "0.11904714170082598\n"
     ]
    }
   ],
   "source": [
    "#46. Mostrar las correlaciones entre los siguientes pares de valores:\n",
    "#1.\ttip_in_percent y distancia.\n",
    "#2.\ttip_in_percent y pasajeros.\n",
    "#3.\ttip_in_percent y time_interval.\n",
    "\n",
    "print(taxis_means['tip_in_percent'].corr(taxis_means['distance']))\n",
    "print(taxis_means['tip_in_percent'].corr(taxis_means['passengers']))\n",
    "print(taxis_means['tip_in_percent'].corr(taxis_means['time_interval']))"
   ]
  },
  {
   "cell_type": "code",
   "execution_count": 32,
   "id": "18b29841",
   "metadata": {},
   "outputs": [],
   "source": [
    "#47. Es cierto que el tamaño del conjunto de datos es bastante pequeño dada la forma en que lo hemos subconfigurado. \n",
    "#Pero basado en los valores en # 45, cuál de los tres pares muestra la correlación más fuerte.\n",
    "\n",
    "#Respuesta: tip_in:percent y passengers"
   ]
  },
  {
   "cell_type": "code",
   "execution_count": null,
   "id": "a40acbb0",
   "metadata": {},
   "outputs": [],
   "source": [
    "#48. ¿Resultó justificada nuestra hipótesis de que las personas dan más propinas a medida que avanza el día?\n",
    "\n",
    "#Respuesta: basado en este conjunto de datos, no"
   ]
  }
 ],
 "metadata": {
  "kernelspec": {
   "display_name": "Python 3 (ipykernel)",
   "language": "python",
   "name": "python3"
  },
  "language_info": {
   "codemirror_mode": {
    "name": "ipython",
    "version": 3
   },
   "file_extension": ".py",
   "mimetype": "text/x-python",
   "name": "python",
   "nbconvert_exporter": "python",
   "pygments_lexer": "ipython3",
   "version": "3.10.5"
  }
 },
 "nbformat": 4,
 "nbformat_minor": 5
}
